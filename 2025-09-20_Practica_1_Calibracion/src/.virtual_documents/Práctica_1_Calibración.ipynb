import cv2
import numpy as np
import glob


#CAMERA CALIBRATION

# Chessboard dimensions
chessboard_size = (9, 6)

# Criterio de terminación de subpixeles
criteria = (cv2.TERM_CRITERIA_EPS + cv2.TERM_CRITERIA_MAX_ITER, 30, 0.001)

# 3D points
objp = np.zeros((np.prod(chessboard_size), 3), np.float32)
objp[:, :2] = np.mgrid[0:chessboard_size[0], 0:chessboard_size[1]].T.reshape(-1, 2)

objpoints = [] # 3D points
imgpoints = [] # 2D points

# Load data (images)
images = glob.glob("assets/chessboard/*.jpeg")

#Find Corners
for i, fname in enumerate(images):
    img = cv2.imread(fname)
    gray = cv2.cvtColor(img, cv2.COLOR_BGR2GRAY)

    ret, corners = cv2.findChessboardCorners(gray, chessboard_size, None)
    if ret:
        #Save points
        objpoints.append(objp)
        imgpoints.append(corners2)
        
        #Refine corner positions
        ref_corners = cv2.cornerSubPix(gray, corners, (11, 11), (-1, -1), criteria)

        #Save Image with detected corner positions
        c_img = img.copy()
        cv2.drawChessboardCorners(c_img, chessboard_size, ref_corners, ret)
        cv2.imwrite(f'res/corners_{i}.jpg', c_img)

# Calibration
#Instrinsics: Camera Matrix, Distortion Coefficients - Extrinscics: rvecs (Rotation), tvecs (Translation)
ret, mtx, dist, rvecs, tvecs = cv2.calibrateCamera(objpoints, imgpoints, gray.shape[::-1], None, None)

#Camera Matrix with Intrinsic Parameters : Focal Lenght (f_x, f_y), Optical Centers (c_x, c_y)
print("Camera Matrix:\n", mtx)
#Distortion Coefficients
print("Distortion Coefficients:\n", dist)

# Data set image example correction
img = cv2.imread(images[0])
h, w = img.shape[:2]

#Optimized Camera Matrix
newcameramtx, roi = cv2.getOptimalNewCameraMatrix(mtx, dist, (w,h), 1, (w,h))

#Undistord
dst = cv2.undistort(img, mtx, dist, None, newcameramtx)

#Crop Image by Region of Interest (ROI)
x, y, w, h = roi
dst = dst[y: y + h, x: x + w]

cv2.imwrite('res/example_correction.jpeg', dst)



##REPROJECTION ERROR

mean_error = 0
for i in range(len(objpoints)):
    imgpoints2, _ = cv2.projectPoints(objpoints[i], rvecs[i], tvecs[i], mtx, dist)
    error = cv2.norm(imgpoints[i], imgpoints2, cv2.NORM_L2)/len(imgpoints2)
    mean_error += error

print(f"Mean Error: {mean_error}")
print(f"Total Error: {mean_error / len(objpoints)}")



